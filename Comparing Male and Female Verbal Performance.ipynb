{
 "cells": [
  {
   "cell_type": "markdown",
   "metadata": {},
   "source": [
    "# Comparing Male and Female Verbal Performance\n",
    "Declan O'Neill"
   ]
  },
  {
   "cell_type": "markdown",
   "metadata": {},
   "source": [
    "This report will compare male and female performance in the verbal section of the SATs for a certain high school."
   ]
  },
  {
   "cell_type": "markdown",
   "metadata": {},
   "source": [
    "The data are held in [`sat_scores.csv`](./sat_scores.csv), telling the gender, verbal SAT score, and math SAT score for the students in this high school who took the SAT. To load it, we will use [pandas](https://pandas.pydata.org/), a python library built for working with and analyzing data."
   ]
  },
  {
   "cell_type": "code",
   "execution_count": 1,
   "metadata": {
    "collapsed": false
   },
   "outputs": [
    {
     "name": "stdout",
     "output_type": "stream",
     "text": [
      "    gender  verbal  math\n",
      "0        f     630   660\n",
      "1        f     590   580\n",
      "2        m     750   800\n",
      "3        m     600   690\n",
      "4        m     610   550\n",
      "5        f     490   800\n",
      "6        f     680   610\n",
      "7        m     520   540\n",
      "8        f     680   660\n",
      "9        m     650   700\n",
      "10       m     600   560\n",
      "11       f     550   560\n",
      "12       m     490   390\n",
      "13       f     530   530\n",
      "14       m     560   560\n",
      "15       f     630   590\n",
      "16       f     510   520\n",
      "17       m     710   740\n",
      "18       f     550   560\n",
      "19       m     690   620\n",
      "20       m     700   700\n",
      "21       m     540   620\n",
      "22       f     280   500\n",
      "23       m     710   760\n",
      "24       f     640   710\n",
      "25       m     600   590\n",
      "26       m     610   670\n",
      "27       m     680   670\n",
      "28       f     520   470\n",
      "29       f     730   740\n",
      "..     ...     ...   ...\n",
      "273      f     570   530\n",
      "274      f     560   540\n",
      "275      f     670   520\n",
      "276      m     650   710\n",
      "277      f     690   700\n",
      "278      m     610   740\n",
      "279      f     500   650\n",
      "280      m     560   700\n",
      "281      m     640   650\n",
      "282      m     430   490\n",
      "283      f     700   570\n",
      "284      m     620   670\n",
      "285      f     610   640\n",
      "286      m     580   640\n",
      "287      f     730   570\n",
      "288      f     520   530\n",
      "289      m     540   580\n",
      "290      m     640   610\n",
      "291      m     680   720\n",
      "292      m     580   490\n",
      "293      f     640   630\n",
      "294      f     700   650\n",
      "295      m     600   630\n",
      "296      f     540   510\n",
      "297      f     480   540\n",
      "298      f     710   700\n",
      "299      m     650   780\n",
      "300      f     640   570\n",
      "301      f     370   410\n",
      "302      m     710   700\n",
      "\n",
      "[303 rows x 3 columns]\n"
     ]
    }
   ],
   "source": [
    "import pandas as pd\n",
    "sat_df = pd.read_csv(\"sat_scores.csv\")\n",
    "print(sat_df)"
   ]
  },
  {
   "cell_type": "markdown",
   "metadata": {},
   "source": [
    "Let's separate this dataframe into two new dataframes: one for male verbal SAT scores, the other for female verbal SAT scores."
   ]
  },
  {
   "cell_type": "code",
   "execution_count": 2,
   "metadata": {
    "collapsed": false
   },
   "outputs": [],
   "source": [
    "male_verbal_SAT_df = sat_df[sat_df[\"gender\"] == \"m\"][\"verbal\"]\n",
    "female_verbal_SAT_df = sat_df[sat_df[\"gender\"] == \"f\"][\"verbal\"]"
   ]
  },
  {
   "cell_type": "markdown",
   "metadata": {},
   "source": [
    "Although these data come from a census, and population parameters can be calculated, we will take a random sample from each dataframe and compare those. To generate a sample, we will use [`pandas.DataFrame.sample`](https://pandas.pydata.org/pandas-docs/stable/generated/pandas.DataFrame.sample.html). For the test that will be done later, it is important that size of each sample not exceed 10% of the size of the population. We will take a sample with a size 9% of each population."
   ]
  },
  {
   "cell_type": "code",
   "execution_count": 3,
   "metadata": {
    "collapsed": false
   },
   "outputs": [],
   "source": [
    "male_verbal_SAT_sample_df = male_verbal_SAT_df.sample(frac=0.09)\n",
    "female_verbal_SAT_sample_df = female_verbal_SAT_df.sample(frac=0.09)"
   ]
  },
  {
   "cell_type": "markdown",
   "metadata": {},
   "source": [
    "Now that we have our samples, we need to calculate their summary statistics. For this, we will use [numpy](http://www.numpy.org/), a python library designed for scientific computing."
   ]
  },
  {
   "cell_type": "code",
   "execution_count": 4,
   "metadata": {
    "collapsed": false
   },
   "outputs": [
    {
     "name": "stdout",
     "output_type": "stream",
     "text": [
      "Male:\n",
      " n                       = 14\n",
      " mean                    = 610.7142857142857\n",
      " standard deviation      = 81.28119495345294\n",
      " mean standard deviation = 21.723313107385714\n",
      "\n",
      "Female:\n",
      " n                       = 13\n",
      " mean                    = 605.3846153846154\n",
      " standard deviation      = 71.96317269862462\n",
      " mean standard deviation = 19.958993008458563\n",
      "\n",
      "Shared:\n",
      " degrees of freedom      = 12\n"
     ]
    }
   ],
   "source": [
    "import numpy as np\n",
    "\n",
    "male_n                       = len(male_verbal_SAT_sample_df)\n",
    "male_mean                    = float(np.mean(male_verbal_SAT_sample_df))\n",
    "male_standard_deviation      = float(np.std(male_verbal_SAT_sample_df))\n",
    "male_mean_standard_deviation = float(male_standard_deviation / np.sqrt(male_n))\n",
    "\n",
    "female_n                       = len(female_verbal_SAT_sample_df)\n",
    "female_mean                    = float(np.mean(female_verbal_SAT_sample_df))\n",
    "female_standard_deviation      = float(np.std(female_verbal_SAT_sample_df))\n",
    "female_mean_standard_deviation = float(female_standard_deviation / np.sqrt(female_n))\n",
    "\n",
    "degrees_of_freedom = min(male_n-1, female_n-1)\n",
    "\n",
    "print(\"Male:\")\n",
    "print(\" n                       =\", male_n)\n",
    "print(\" mean                    =\", male_mean)\n",
    "print(\" standard deviation      =\", male_standard_deviation)\n",
    "print(\" mean standard deviation =\", male_mean_standard_deviation)\n",
    "\n",
    "print(\"\\nFemale:\")\n",
    "print(\" n                       =\", female_n)\n",
    "print(\" mean                    =\", female_mean)\n",
    "print(\" standard deviation      =\", female_standard_deviation)\n",
    "print(\" mean standard deviation =\", female_mean_standard_deviation)\n",
    "\n",
    "print(\"\\nShared:\")\n",
    "print(\" degrees of freedom      =\", degrees_of_freedom)"
   ]
  },
  {
   "cell_type": "markdown",
   "metadata": {},
   "source": [
    "With these statistics calculated, we can run a **two-sample two-tail t-test** to compare male and female performance in the verbal section of the SATs for this high school. Before we do, though, we have to check certain conditions."
   ]
  },
  {
   "cell_type": "markdown",
   "metadata": {},
   "source": [
    "### 1. Random sample of male and female verbal SAT scores\n",
    "We used [`pandas.DataFrame.sample`](https://pandas.pydata.org/pandas-docs/stable/generated/pandas.DataFrame.sample.html), which generates pseudo-random samples. They may not be perfect, but they're random enough."
   ]
  },
  {
   "cell_type": "markdown",
   "metadata": {},
   "source": [
    "### 2. n-male and n-female are less than 10% of their total populations\n",
    "We kept this in mind when generating the samples, using only 9% of each total population. This condition checks out."
   ]
  },
  {
   "cell_type": "markdown",
   "metadata": {},
   "source": [
    "### 3. Sample comes from a distribution that is unimodal and symmetric\n",
    "Let's generate a histogram of each dataset. We'll use [matplotlib](https://matplotlib.org/), a python library for plotting data."
   ]
  },
  {
   "cell_type": "code",
   "execution_count": 5,
   "metadata": {
    "collapsed": false
   },
   "outputs": [
    {
     "data": {
      "text/plain": [
       "(array([  1.,   4.,   9.,  13.,  17.,  38.,  33.,  26.,  12.,   5.]),\n",
       " array([ 310.,  359.,  408.,  457.,  506.,  555.,  604.,  653.,  702.,\n",
       "         751.,  800.]),\n",
       " <a list of 10 Patch objects>)"
      ]
     },
     "execution_count": 5,
     "metadata": {},
     "output_type": "execute_result"
    },
    {
     "data": {
      "image/png": "[encoded data removed]",
      "text/plain": [
       "<matplotlib.figure.Figure at 0x1e377238f60>"
      ]
     },
     "metadata": {},
     "output_type": "display_data"
    }
   ],
   "source": [
    "%matplotlib inline\n",
    "from matplotlib import pyplot as plt\n",
    "\n",
    "plt.xlabel('Verbal SAT Score')\n",
    "plt.ylabel('Frequency')\n",
    "plt.title('Histogram of Male Verbal Scores From a Certain High School')\n",
    "plt.hist(male_verbal_SAT_df)"
   ]
  },
  {
   "cell_type": "code",
   "execution_count": 6,
   "metadata": {
    "collapsed": false
   },
   "outputs": [
    {
     "data": {
      "text/plain": [
       "(array([  1.,   4.,   4.,   5.,  18.,  24.,  25.,  33.,  20.,  11.]),\n",
       " array([ 280.,  329.,  378.,  427.,  476.,  525.,  574.,  623.,  672.,\n",
       "         721.,  770.]),\n",
       " <a list of 10 Patch objects>)"
      ]
     },
     "execution_count": 6,
     "metadata": {},
     "output_type": "execute_result"
    },
    {
     "data": {
      "image/png": "[encoded data removed]",
      "text/plain": [
       "<matplotlib.figure.Figure at 0x1e374beb898>"
      ]
     },
     "metadata": {},
     "output_type": "display_data"
    }
   ],
   "source": [
    "%matplotlib inline\n",
    "from matplotlib import pyplot as plt\n",
    "\n",
    "plt.xlabel('Verbal SAT Score')\n",
    "plt.ylabel('Frequency')\n",
    "plt.title('Histogram of Female Verbal Scores From a Certain High School')\n",
    "plt.hist(female_verbal_SAT_df)"
   ]
  },
  {
   "cell_type": "markdown",
   "metadata": {},
   "source": [
    "Although each of these plots could be described as unimodal skewed left, they will be *\"normal enough\"* to work with."
   ]
  },
  {
   "cell_type": "markdown",
   "metadata": {},
   "source": [
    "With these conditions met, we may run the **two-sample two-tail t-test**. Let's define the null and alternative hypotheses."
   ]
  },
  {
   "cell_type": "markdown",
   "metadata": {},
   "source": [
    "$$H_{0}: \\mu_{male} - \\mu_{female} = 0$$\n",
    "$$H_{A}: \\mu_{male} - \\mu_{female} ≠ 0$$"
   ]
  },
  {
   "cell_type": "markdown",
   "metadata": {},
   "source": [
    "The null hypothesis ($H_{0}$) states that there is ***no*** difference between the true means of male and female verbal SAT scores.\n",
    "\n",
    "The alternative hypothesis ($H_{A}$) states that there ***is*** a difference between the true means of male and female verbal SAT scores."
   ]
  },
  {
   "cell_type": "markdown",
   "metadata": {},
   "source": [
    "We can determine whether the null hypothesis should be accepted or not by calculating the t-statistic and its corresponding p-value."
   ]
  },
  {
   "cell_type": "markdown",
   "metadata": {},
   "source": [
    "$$t-statistic = t_{df} = \\frac{(\\bar{X}_{male} - \\bar{X}_{female}) - 0}{SE(\\bar{X}_{male}+\\bar{X}_{female})}$$\n",
    "\n",
    "$$SE(\\bar{X}_{male}+\\bar{X}_{female}) = \\sqrt{SE(\\bar{X}_{male})^{2} + SE(\\bar{X}_{female})^{2}}$$"
   ]
  },
  {
   "cell_type": "markdown",
   "metadata": {},
   "source": [
    "$df$ represents the degrees of freedom, $\\bar{X}_{a}$ represents the mean of sample $a$, and $SE(\\bar{X}_{a})$ represents the mean standard deviation of sample $a$."
   ]
  },
  {
   "cell_type": "code",
   "execution_count": 7,
   "metadata": {
    "collapsed": false
   },
   "outputs": [
    {
     "name": "stdout",
     "output_type": "stream",
     "text": [
      "t-statistic = 0.1806653652127848\n"
     ]
    }
   ],
   "source": [
    "sum_std = float(np.sqrt(male_mean_standard_deviation**2 + female_mean_standard_deviation**2))\n",
    "t_stat = (male_mean - female_mean) / sum_std\n",
    "print(\"t-statistic =\", t_stat)"
   ]
  },
  {
   "cell_type": "markdown",
   "metadata": {},
   "source": [
    "To find the p-value of a two-tailed t-test, we take the probability that any t-statistic from a student's t-distribution with the same degrees of freedom would be greater than or equal to the absolute value of this one, and then multiply it by two."
   ]
  },
  {
   "cell_type": "markdown",
   "metadata": {},
   "source": [
    "$$p-value = 2P(t_{12} ≥ 0.4125)$$"
   ]
  },
  {
   "cell_type": "markdown",
   "metadata": {},
   "source": [
    "[scipy](https://www.scipy.org/) has a convenient function for calculating such probabilities: `scipy.stats.t.sf`"
   ]
  },
  {
   "cell_type": "code",
   "execution_count": 8,
   "metadata": {
    "collapsed": false
   },
   "outputs": [
    {
     "name": "stdout",
     "output_type": "stream",
     "text": [
      "With a p-value of 85.9646%, this test fails to reject the null hypothesis\n"
     ]
    }
   ],
   "source": [
    "import scipy.stats\n",
    "\n",
    "p_val = 2 * scipy.stats.t.sf(np.abs(t_stat), degrees_of_freedom)\n",
    "alpha = 0.05\n",
    "\n",
    "if p_val < alpha:\n",
    "    print(\"With a p-value of %s%%, this test rejects the null hypothesis in favor of the alternative\" % (round(p_val*100,4)))\n",
    "else:\n",
    "    print(\"With a p-value of %s%%, this test fails to reject the null hypothesis\" % (round(p_val*100,4)))"
   ]
  },
  {
   "cell_type": "markdown",
   "metadata": {},
   "source": [
    "The test has failed to reject that there is no difference between the true means of male and female verbal SAT scores for this high school."
   ]
  }
 ],
 "metadata": {
  "anaconda-cloud": {},
  "kernelspec": {
   "display_name": "Python [default]",
   "language": "python",
   "name": "python3"
  },
  "language_info": {
   "codemirror_mode": {
    "name": "ipython",
    "version": 3
   },
   "file_extension": ".py",
   "mimetype": "text/x-python",
   "name": "python",
   "nbconvert_exporter": "python",
   "pygments_lexer": "ipython3",
   "version": "3.5.2"
  }
 },
 "nbformat": 4,
 "nbformat_minor": 1
}
