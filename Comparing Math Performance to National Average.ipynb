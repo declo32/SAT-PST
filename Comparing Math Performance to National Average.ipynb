{
 "cells": [
  {
   "cell_type": "markdown",
   "metadata": {},
   "source": [
    "# Comparing Math Performance to National Average"
   ]
  },
  {
   "cell_type": "markdown",
   "metadata": {},
   "source": [
    "This report will compare a certain high school's performance on the math SAT to the national average of 513"
   ]
  },
  {
   "cell_type": "markdown",
   "metadata": {},
   "source": [
    "The data are held in [`sat_scores.csv`](./sat_scores.csv), telling the gender, verbal SAT score, and math SAT score for the students in this high school who took the SAT. To load it, we will use [pandas](https://pandas.pydata.org/), a python library built for working with and analyzing data."
   ]
  },
  {
   "cell_type": "code",
   "execution_count": 1,
   "metadata": {
    "collapsed": false
   },
   "outputs": [
    {
     "name": "stdout",
     "output_type": "stream",
     "text": [
      "    gender  verbal  math\n",
      "0        f     630   660\n",
      "1        f     590   580\n",
      "2        m     750   800\n",
      "3        m     600   690\n",
      "4        m     610   550\n",
      "5        f     490   800\n",
      "6        f     680   610\n",
      "7        m     520   540\n",
      "8        f     680   660\n",
      "9        m     650   700\n",
      "10       m     600   560\n",
      "11       f     550   560\n",
      "12       m     490   390\n",
      "13       f     530   530\n",
      "14       m     560   560\n",
      "15       f     630   590\n",
      "16       f     510   520\n",
      "17       m     710   740\n",
      "18       f     550   560\n",
      "19       m     690   620\n",
      "20       m     700   700\n",
      "21       m     540   620\n",
      "22       f     280   500\n",
      "23       m     710   760\n",
      "24       f     640   710\n",
      "25       m     600   590\n",
      "26       m     610   670\n",
      "27       m     680   670\n",
      "28       f     520   470\n",
      "29       f     730   740\n",
      "..     ...     ...   ...\n",
      "273      f     570   530\n",
      "274      f     560   540\n",
      "275      f     670   520\n",
      "276      m     650   710\n",
      "277      f     690   700\n",
      "278      m     610   740\n",
      "279      f     500   650\n",
      "280      m     560   700\n",
      "281      m     640   650\n",
      "282      m     430   490\n",
      "283      f     700   570\n",
      "284      m     620   670\n",
      "285      f     610   640\n",
      "286      m     580   640\n",
      "287      f     730   570\n",
      "288      f     520   530\n",
      "289      m     540   580\n",
      "290      m     640   610\n",
      "291      m     680   720\n",
      "292      m     580   490\n",
      "293      f     640   630\n",
      "294      f     700   650\n",
      "295      m     600   630\n",
      "296      f     540   510\n",
      "297      f     480   540\n",
      "298      f     710   700\n",
      "299      m     650   780\n",
      "300      f     640   570\n",
      "301      f     370   410\n",
      "302      m     710   700\n",
      "\n",
      "[303 rows x 3 columns]\n"
     ]
    }
   ],
   "source": [
    "import pandas as pd\n",
    "sat_df = pd.read_csv(\"sat_scores.csv\")\n",
    "print(sat_df)"
   ]
  },
  {
   "cell_type": "markdown",
   "metadata": {},
   "source": [
    "We don't need the gender or verbal SAT score columns, so let's create a new dataframe that only has a math SAT score column."
   ]
  },
  {
   "cell_type": "code",
   "execution_count": 2,
   "metadata": {
    "collapsed": false
   },
   "outputs": [
    {
     "name": "stdout",
     "output_type": "stream",
     "text": [
      "     math\n",
      "0     660\n",
      "1     580\n",
      "2     800\n",
      "3     690\n",
      "4     550\n",
      "5     800\n",
      "6     610\n",
      "7     540\n",
      "8     660\n",
      "9     700\n",
      "10    560\n",
      "11    560\n",
      "12    390\n",
      "13    530\n",
      "14    560\n",
      "15    590\n",
      "16    520\n",
      "17    740\n",
      "18    560\n",
      "19    620\n",
      "20    700\n",
      "21    620\n",
      "22    500\n",
      "23    760\n",
      "24    710\n",
      "25    590\n",
      "26    670\n",
      "27    670\n",
      "28    470\n",
      "29    740\n",
      "..    ...\n",
      "273   530\n",
      "274   540\n",
      "275   520\n",
      "276   710\n",
      "277   700\n",
      "278   740\n",
      "279   650\n",
      "280   700\n",
      "281   650\n",
      "282   490\n",
      "283   570\n",
      "284   670\n",
      "285   640\n",
      "286   640\n",
      "287   570\n",
      "288   530\n",
      "289   580\n",
      "290   610\n",
      "291   720\n",
      "292   490\n",
      "293   630\n",
      "294   650\n",
      "295   630\n",
      "296   510\n",
      "297   540\n",
      "298   700\n",
      "299   780\n",
      "300   570\n",
      "301   410\n",
      "302   700\n",
      "\n",
      "[303 rows x 1 columns]\n"
     ]
    }
   ],
   "source": [
    "math_sat_df = pd.DataFrame(sat_df[\"math\"])\n",
    "print(math_sat_df)"
   ]
  },
  {
   "cell_type": "markdown",
   "metadata": {},
   "source": [
    "Although this data comes from a census, and population parameters can be calculated, we will take a random sample and run a test upon that to compare this high school's math performance to the national average. To generate a sample, we will use [`pandas.DataFrame.sample`](https://pandas.pydata.org/pandas-docs/stable/generated/pandas.DataFrame.sample.html). For the test that will be done later, it is important that size of the sample not exceed 10% of the size of the population. We will take a sample with a size 5% of the population."
   ]
  },
  {
   "cell_type": "code",
   "execution_count": 3,
   "metadata": {
    "collapsed": false
   },
   "outputs": [
    {
     "name": "stdout",
     "output_type": "stream",
     "text": [
      "     math\n",
      "133   570\n",
      "32    500\n",
      "73    630\n",
      "158   540\n",
      "290   610\n",
      "57    510\n",
      "218   400\n",
      "227   760\n",
      "189   730\n",
      "211   720\n",
      "120   540\n",
      "56    290\n",
      "87    670\n",
      "165   600\n",
      "68    760\n"
     ]
    }
   ],
   "source": [
    "math_sat_sample_df = math_sat_df.sample(frac=0.05)\n",
    "print(math_sat_sample_df)"
   ]
  },
  {
   "cell_type": "markdown",
   "metadata": {},
   "source": [
    "Now that we have our sample, we need to calculate it's summary statistics. For this, we will use [numpy](http://www.numpy.org/), a python library designed for scientific computing."
   ]
  },
  {
   "cell_type": "code",
   "execution_count": 4,
   "metadata": {
    "collapsed": false
   },
   "outputs": [
    {
     "name": "stdout",
     "output_type": "stream",
     "text": [
      "n                       = 15\n",
      "mean                    = 588.6666666666666\n",
      "standard deviation      = 128.78233143132985\n",
      "mean standard deviation = 33.251454994620296\n"
     ]
    }
   ],
   "source": [
    "import numpy as np\n",
    "\n",
    "n                       = len(math_sat_sample_df)\n",
    "mean                    = float(np.mean(math_sat_sample_df))\n",
    "standard_deviation      = float(np.std(math_sat_sample_df))\n",
    "mean_standard_deviation = float(standard_deviation / np.sqrt(n))\n",
    "\n",
    "print(\"n                       = \", n, sep=\"\")\n",
    "print(\"mean                    = \", mean, sep=\"\")\n",
    "print(\"standard deviation      = \", standard_deviation, sep=\"\")\n",
    "print(\"mean standard deviation = \", mean_standard_deviation, sep=\"\")"
   ]
  },
  {
   "cell_type": "markdown",
   "metadata": {},
   "source": [
    "With these statistics calculated, we can run a one-sample two-tail t-test to compare this high school's math performance to the national average. Before we do, though, we have to check certain conditions."
   ]
  },
  {
   "cell_type": "markdown",
   "metadata": {},
   "source": [
    "### 1. Random sample of math SAT scores from this high school\n",
    "We used [`pandas.DataFrame.sample`](https://pandas.pydata.org/pandas-docs/stable/generated/pandas.DataFrame.sample.html), which generates a pseudo-random sample. It may not be perfect, but it's random enough."
   ]
  },
  {
   "cell_type": "markdown",
   "metadata": {},
   "source": [
    "### 2. n is less than 10% of the total population of math SAT scores from this high school\n",
    "We kept this in mind when generating the sample, using only 5% of the total population of math SAT scores from this high school. This condition checks out."
   ]
  },
  {
   "cell_type": "markdown",
   "metadata": {},
   "source": [
    "### 3. Sample follows a normal model\n",
    "Let's generate a histogram of the sample. We'll use [matplotlib](https://matplotlib.org/), a python library for plotting data."
   ]
  },
  {
   "cell_type": "code",
   "execution_count": 5,
   "metadata": {
    "collapsed": false
   },
   "outputs": [
    {
     "data": {
      "text/plain": [
       "(array([ 1.,  0.,  1.,  0.,  2.,  3.,  2.,  1.,  1.,  4.]),\n",
       " array([ 290.,  337.,  384.,  431.,  478.,  525.,  572.,  619.,  666.,\n",
       "         713.,  760.]),\n",
       " <a list of 10 Patch objects>)"
      ]
     },
     "execution_count": 5,
     "metadata": {},
     "output_type": "execute_result"
    },
    {
     "data": {
      "image/png": "[encoded data removed]",
      "text/plain": [
       "<matplotlib.figure.Figure at 0x24c9cf0db00>"
      ]
     },
     "metadata": {},
     "output_type": "display_data"
    }
   ],
   "source": [
    "%matplotlib inline\n",
    "from matplotlib import pyplot as plt\n",
    "\n",
    "plt.xlabel('Math SAT Score')\n",
    "plt.ylabel('Frequency')\n",
    "plt.title('Histogram of a Sample of Math SAT Scores')\n",
    "plt.hist(math_sat_sample_df[\"math\"])"
   ]
  },
  {
   "cell_type": "markdown",
   "metadata": {},
   "source": [
    "# Uh-oh"
   ]
  }
 ],
 "metadata": {
  "anaconda-cloud": {},
  "kernelspec": {
   "display_name": "Python [default]",
   "language": "python",
   "name": "python3"
  },
  "language_info": {
   "codemirror_mode": {
    "name": "ipython",
    "version": 3
   },
   "file_extension": ".py",
   "mimetype": "text/x-python",
   "name": "python",
   "nbconvert_exporter": "python",
   "pygments_lexer": "ipython3",
   "version": "3.5.2"
  }
 },
 "nbformat": 4,
 "nbformat_minor": 1
}
