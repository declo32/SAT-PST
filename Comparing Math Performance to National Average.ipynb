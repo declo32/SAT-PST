{
 "cells": [
  {
   "cell_type": "markdown",
   "metadata": {},
   "source": [
    "# Comparing Math Performance to National Average\n",
    "Declan O'Neill"
   ]
  },
  {
   "cell_type": "markdown",
   "metadata": {},
   "source": [
    "This report will compare a certain high school's performance on the math SAT to the national average of 513."
   ]
  },
  {
   "cell_type": "markdown",
   "metadata": {},
   "source": [
    "The data are held in [`sat_scores.csv`](./sat_scores.csv), telling the gender, verbal SAT score, and math SAT score for the students in this high school who took the SAT. To load it, we will use [pandas](https://pandas.pydata.org/), a python library built for working with and analyzing data."
   ]
  },
  {
   "cell_type": "code",
   "execution_count": 1,
   "metadata": {
    "collapsed": false
   },
   "outputs": [
    {
     "name": "stdout",
     "output_type": "stream",
     "text": [
      "    gender  verbal  math\n",
      "0        f     630   660\n",
      "1        f     590   580\n",
      "2        m     750   800\n",
      "3        m     600   690\n",
      "4        m     610   550\n",
      "5        f     490   800\n",
      "6        f     680   610\n",
      "7        m     520   540\n",
      "8        f     680   660\n",
      "9        m     650   700\n",
      "10       m     600   560\n",
      "11       f     550   560\n",
      "12       m     490   390\n",
      "13       f     530   530\n",
      "14       m     560   560\n",
      "15       f     630   590\n",
      "16       f     510   520\n",
      "17       m     710   740\n",
      "18       f     550   560\n",
      "19       m     690   620\n",
      "20       m     700   700\n",
      "21       m     540   620\n",
      "22       f     280   500\n",
      "23       m     710   760\n",
      "24       f     640   710\n",
      "25       m     600   590\n",
      "26       m     610   670\n",
      "27       m     680   670\n",
      "28       f     520   470\n",
      "29       f     730   740\n",
      "..     ...     ...   ...\n",
      "273      f     570   530\n",
      "274      f     560   540\n",
      "275      f     670   520\n",
      "276      m     650   710\n",
      "277      f     690   700\n",
      "278      m     610   740\n",
      "279      f     500   650\n",
      "280      m     560   700\n",
      "281      m     640   650\n",
      "282      m     430   490\n",
      "283      f     700   570\n",
      "284      m     620   670\n",
      "285      f     610   640\n",
      "286      m     580   640\n",
      "287      f     730   570\n",
      "288      f     520   530\n",
      "289      m     540   580\n",
      "290      m     640   610\n",
      "291      m     680   720\n",
      "292      m     580   490\n",
      "293      f     640   630\n",
      "294      f     700   650\n",
      "295      m     600   630\n",
      "296      f     540   510\n",
      "297      f     480   540\n",
      "298      f     710   700\n",
      "299      m     650   780\n",
      "300      f     640   570\n",
      "301      f     370   410\n",
      "302      m     710   700\n",
      "\n",
      "[303 rows x 3 columns]\n"
     ]
    }
   ],
   "source": [
    "import pandas as pd\n",
    "sat_df = pd.read_csv(\"sat_scores.csv\")\n",
    "print(sat_df)"
   ]
  },
  {
   "cell_type": "markdown",
   "metadata": {},
   "source": [
    "We don't need the gender or verbal SAT score columns, so let's create a new dataframe that only has a math SAT score column."
   ]
  },
  {
   "cell_type": "code",
   "execution_count": 2,
   "metadata": {
    "collapsed": false
   },
   "outputs": [
    {
     "name": "stdout",
     "output_type": "stream",
     "text": [
      "     math\n",
      "0     660\n",
      "1     580\n",
      "2     800\n",
      "3     690\n",
      "4     550\n",
      "5     800\n",
      "6     610\n",
      "7     540\n",
      "8     660\n",
      "9     700\n",
      "10    560\n",
      "11    560\n",
      "12    390\n",
      "13    530\n",
      "14    560\n",
      "15    590\n",
      "16    520\n",
      "17    740\n",
      "18    560\n",
      "19    620\n",
      "20    700\n",
      "21    620\n",
      "22    500\n",
      "23    760\n",
      "24    710\n",
      "25    590\n",
      "26    670\n",
      "27    670\n",
      "28    470\n",
      "29    740\n",
      "..    ...\n",
      "273   530\n",
      "274   540\n",
      "275   520\n",
      "276   710\n",
      "277   700\n",
      "278   740\n",
      "279   650\n",
      "280   700\n",
      "281   650\n",
      "282   490\n",
      "283   570\n",
      "284   670\n",
      "285   640\n",
      "286   640\n",
      "287   570\n",
      "288   530\n",
      "289   580\n",
      "290   610\n",
      "291   720\n",
      "292   490\n",
      "293   630\n",
      "294   650\n",
      "295   630\n",
      "296   510\n",
      "297   540\n",
      "298   700\n",
      "299   780\n",
      "300   570\n",
      "301   410\n",
      "302   700\n",
      "\n",
      "[303 rows x 1 columns]\n"
     ]
    }
   ],
   "source": [
    "math_sat_df = pd.DataFrame(sat_df[\"math\"])\n",
    "print(math_sat_df)"
   ]
  },
  {
   "cell_type": "markdown",
   "metadata": {},
   "source": [
    "Although these data come from a census, and population parameters can be calculated, we will take a random sample and run a test upon that to compare this high school's math performance to the national average. To generate a sample, we will use [`pandas.DataFrame.sample`](https://pandas.pydata.org/pandas-docs/stable/generated/pandas.DataFrame.sample.html). For the test that will be done later, it is important that size of the sample not exceed 10% of the size of the population. We will take a sample with a size 9% of the population."
   ]
  },
  {
   "cell_type": "code",
   "execution_count": 3,
   "metadata": {
    "collapsed": false
   },
   "outputs": [
    {
     "name": "stdout",
     "output_type": "stream",
     "text": [
      "     math\n",
      "128   630\n",
      "274   540\n",
      "188   710\n",
      "136   470\n",
      "280   700\n",
      "78    660\n",
      "270   640\n",
      "281   650\n",
      "160   520\n",
      "273   530\n",
      "277   700\n",
      "272   630\n",
      "202   540\n",
      "94    570\n",
      "162   570\n",
      "99    550\n",
      "265   570\n",
      "230   530\n",
      "154   570\n",
      "268   700\n",
      "51    530\n",
      "302   700\n",
      "125   670\n",
      "43    560\n",
      "17    740\n",
      "38    580\n",
      "256   640\n"
     ]
    }
   ],
   "source": [
    "math_sat_sample_df = math_sat_df.sample(frac=0.09)\n",
    "print(math_sat_sample_df)"
   ]
  },
  {
   "cell_type": "markdown",
   "metadata": {},
   "source": [
    "Now that we have our sample, we need to calculate it's summary statistics. For this, we will use [numpy](http://www.numpy.org/), a python library designed for scientific computing."
   ]
  },
  {
   "cell_type": "code",
   "execution_count": 4,
   "metadata": {
    "collapsed": false
   },
   "outputs": [
    {
     "name": "stdout",
     "output_type": "stream",
     "text": [
      "n                       = 27\n",
      "degrees of freedom      = 26\n",
      "mean                    = 607.4074074074074\n",
      "standard deviation      = 71.88429966079455\n",
      "mean standard deviation = 13.834139919889154\n"
     ]
    }
   ],
   "source": [
    "import numpy as np\n",
    "\n",
    "n                       = len(math_sat_sample_df)\n",
    "degrees_of_freedom      = n-1\n",
    "mean                    = float(np.mean(math_sat_sample_df))\n",
    "standard_deviation      = float(np.std(math_sat_sample_df))\n",
    "mean_standard_deviation = float(standard_deviation / np.sqrt(n))\n",
    "\n",
    "print(\"n                       =\", n)\n",
    "print(\"degrees of freedom      =\", degrees_of_freedom)\n",
    "print(\"mean                    =\", mean)\n",
    "print(\"standard deviation      =\", standard_deviation)\n",
    "print(\"mean standard deviation =\", mean_standard_deviation)"
   ]
  },
  {
   "cell_type": "markdown",
   "metadata": {},
   "source": [
    "With these statistics calculated, we can run a **one-sample two-tail t-test** to compare this high school's math performance to the national average. Before we do, though, we have to check certain conditions."
   ]
  },
  {
   "cell_type": "markdown",
   "metadata": {},
   "source": [
    "### 1. Random sample of math SAT scores from this high school\n",
    "We used [`pandas.DataFrame.sample`](https://pandas.pydata.org/pandas-docs/stable/generated/pandas.DataFrame.sample.html), which generates a pseudo-random sample. It may not be perfect, but it's random enough."
   ]
  },
  {
   "cell_type": "markdown",
   "metadata": {},
   "source": [
    "### 2. n is less than 10% of the total population of math SAT scores from this high school\n",
    "We kept this in mind when generating the sample, using only 9% of the total population of math SAT scores from this high school. This condition checks out."
   ]
  },
  {
   "cell_type": "markdown",
   "metadata": {},
   "source": [
    "### 3. Sample comes from a distribution that is unimodal and symmetric\n",
    "Let's generate a histogram of all the data. We'll use [matplotlib](https://matplotlib.org/), a python library for plotting data."
   ]
  },
  {
   "cell_type": "code",
   "execution_count": 5,
   "metadata": {
    "collapsed": false
   },
   "outputs": [
    {
     "data": {
      "text/plain": [
       "(array([  1.,   4.,  12.,  14.,  40.,  53.,  60.,  57.,  47.,  15.]),\n",
       " array([ 290.,  341.,  392.,  443.,  494.,  545.,  596.,  647.,  698.,\n",
       "         749.,  800.]),\n",
       " <a list of 10 Patch objects>)"
      ]
     },
     "execution_count": 5,
     "metadata": {},
     "output_type": "execute_result"
    },
    {
     "data": {
      "image/png": "[encoded data removed]",
      "text/plain": [
       "<matplotlib.figure.Figure at 0x1b103bb0978>"
      ]
     },
     "metadata": {},
     "output_type": "display_data"
    }
   ],
   "source": [
    "%matplotlib inline\n",
    "from matplotlib import pyplot as plt\n",
    "\n",
    "plt.xlabel('Math SAT Score')\n",
    "plt.ylabel('Frequency')\n",
    "plt.title('Histogram of Math SAT Scores From a Certain High School')\n",
    "plt.hist(sat_df[\"math\"])"
   ]
  },
  {
   "cell_type": "markdown",
   "metadata": {},
   "source": [
    "It could be said that the data are unimodal skewed left, but they will be *\"normal enough\"* to work with."
   ]
  },
  {
   "cell_type": "markdown",
   "metadata": {},
   "source": [
    "With these conditions met, we may run the **one-sample two-tail t-test**. Let's define the null and alternative hypotheses."
   ]
  },
  {
   "cell_type": "markdown",
   "metadata": {},
   "source": [
    "$$H_{0}: \\mu = 513$$\n",
    "$$H_{A}: \\mu ≠ 513$$"
   ]
  },
  {
   "cell_type": "markdown",
   "metadata": {},
   "source": [
    "The null hypothesis ($H_{0}$) states that the true mean of math SAT scores is equal to 513, the national average.\n",
    "\n",
    "The alternative hypothesis ($H_{A}$) states that the true mean of math SAT scores is not equal to 513, the national average."
   ]
  },
  {
   "cell_type": "markdown",
   "metadata": {},
   "source": [
    "We can determine whether the null hypothesis should be accepted or not by calculating the t-statistic and its corresponding p-value."
   ]
  },
  {
   "cell_type": "markdown",
   "metadata": {},
   "source": [
    "$$t-statistic = t_{df} = \\frac{\\bar{X} - \\mu_{0}}{SE(\\bar{X})}$$"
   ]
  },
  {
   "cell_type": "markdown",
   "metadata": {},
   "source": [
    "$df$ represents the degrees of freedom, $\\bar{X}$ represents the mean of our sample, $\\mu_{0}$ represents the national average, and $SE(\\bar{X})$ represents the mean standard deviation of our sample."
   ]
  },
  {
   "cell_type": "code",
   "execution_count": 6,
   "metadata": {
    "collapsed": false
   },
   "outputs": [
    {
     "name": "stdout",
     "output_type": "stream",
     "text": [
      "t-statistic = 6.824233957015221\n"
     ]
    }
   ],
   "source": [
    "t_stat = (mean - 513) / mean_standard_deviation\n",
    "print(\"t-statistic =\", t_stat)"
   ]
  },
  {
   "cell_type": "markdown",
   "metadata": {},
   "source": [
    "To find the p-value of a two-tailed t-test, we take the probability that any t-statistic from a student's t-distribution with the same degrees of freedom would be greater than or equal to this one, and then multiply it by two."
   ]
  },
  {
   "cell_type": "markdown",
   "metadata": {},
   "source": [
    "$$p-value = 2P(t_{26} ≥ t-statistic)$$"
   ]
  },
  {
   "cell_type": "markdown",
   "metadata": {},
   "source": [
    "[scipy](https://www.scipy.org/) has a convenient function for calculating such probabilities: `scipy.stats.t.sf`"
   ]
  },
  {
   "cell_type": "code",
   "execution_count": 7,
   "metadata": {
    "collapsed": false
   },
   "outputs": [
    {
     "name": "stdout",
     "output_type": "stream",
     "text": [
      "With a p-value of 0.0%, this test rejects the null hypothesis in favor of the alternative\n"
     ]
    }
   ],
   "source": [
    "import scipy.stats\n",
    "\n",
    "p_val = 2 * scipy.stats.t.sf(t_stat, degrees_of_freedom)\n",
    "alpha = 0.05\n",
    "\n",
    "if p_val < alpha:\n",
    "    print(\"With a p-value of %s%%, this test rejects the null hypothesis in favor of the alternative\" % (round(p_val*100,4)))\n",
    "else:\n",
    "    print(\"With a p-value of %s%%, this test fails to reject the null hypothesis\" % (round(p_val*100,4)))"
   ]
  },
  {
   "cell_type": "markdown",
   "metadata": {},
   "source": [
    "The test has rejected that the true mean of math SAT scores is equal to 513, the national average. Now we should create a confidence interval to estimate what the true mean really is. We will use a 90% confidence interval. It is calculated with the following expression."
   ]
  },
  {
   "cell_type": "markdown",
   "metadata": {},
   "source": [
    "$$\\bar{X} ± t^{*}_{df} * SE(\\bar{X})$$"
   ]
  },
  {
   "cell_type": "markdown",
   "metadata": {},
   "source": [
    "We can use `scipy.stats.t.isf` to determine $t^{*}_{26}$ based on our 90% confidence interval."
   ]
  },
  {
   "cell_type": "code",
   "execution_count": 8,
   "metadata": {
    "collapsed": false
   },
   "outputs": [
    {
     "name": "stdout",
     "output_type": "stream",
     "text": [
      "1.70561791976\n"
     ]
    }
   ],
   "source": [
    "confidence = 0.9\n",
    "upper_probability = (1 - confidence) / 2  # Parameter for isf\n",
    "t_star = scipy.stats.t.isf(upper_probability, df=26)\n",
    "\n",
    "print(t_star)"
   ]
  },
  {
   "cell_type": "markdown",
   "metadata": {},
   "source": [
    "We know the other values in the expression, so it is easy to calculate."
   ]
  },
  {
   "cell_type": "code",
   "execution_count": 9,
   "metadata": {
    "collapsed": false
   },
   "outputs": [
    {
     "name": "stdout",
     "output_type": "stream",
     "text": [
      "[583.81165045558737, 631.00316435922741]\n"
     ]
    }
   ],
   "source": [
    "interval = [mean - (t_star * mean_standard_deviation), mean + (t_star * mean_standard_deviation)]\n",
    "print(interval)"
   ]
  },
  {
   "cell_type": "markdown",
   "metadata": {},
   "source": [
    "It can be said with 90% confidence that the true mean value of math SAT scores for this particular high school lies on the above interval."
   ]
  }
 ],
 "metadata": {
  "anaconda-cloud": {},
  "kernelspec": {
   "display_name": "Python 3",
   "language": "python",
   "name": "python3"
  },
  "language_info": {
   "codemirror_mode": {
    "name": "ipython",
    "version": 3
   },
   "file_extension": ".py",
   "mimetype": "text/x-python",
   "name": "python",
   "nbconvert_exporter": "python",
   "pygments_lexer": "ipython3",
   "version": "3.5.1"
  }
 },
 "nbformat": 4,
 "nbformat_minor": 1
}
